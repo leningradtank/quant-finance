{
 "cells": [
  {
   "cell_type": "code",
   "execution_count": 37,
   "metadata": {},
   "outputs": [],
   "source": [
    "# Import needed libraries\n",
    "\n",
    "import pandas as pd\n",
    "import numpy as np\n",
    "from pandas_datareader import data as web\n",
    "import matplotlib.pyplot as plt\n",
    "from datetime import datetime\n",
    "%matplotlib inline"
   ]
  },
  {
   "cell_type": "code",
   "execution_count": 38,
   "metadata": {},
   "outputs": [],
   "source": [
    "# Specify starting and end periods with Datetime\n",
    "\n",
    "start = datetime(2018,1,1)\n",
    "end = datetime(2021,10,1)\n"
   ]
  },
  {
   "cell_type": "code",
   "execution_count": 39,
   "metadata": {},
   "outputs": [],
   "source": [
    "# Get Apple's stock info\n",
    "\n",
    "apple = web.DataReader('AAPL', data_source='yahoo', start=start, end=end)"
   ]
  },
  {
   "cell_type": "code",
   "execution_count": 40,
   "metadata": {},
   "outputs": [
    {
     "data": {
      "text/html": [
       "<div>\n",
       "<style scoped>\n",
       "    .dataframe tbody tr th:only-of-type {\n",
       "        vertical-align: middle;\n",
       "    }\n",
       "\n",
       "    .dataframe tbody tr th {\n",
       "        vertical-align: top;\n",
       "    }\n",
       "\n",
       "    .dataframe thead th {\n",
       "        text-align: right;\n",
       "    }\n",
       "</style>\n",
       "<table border=\"1\" class=\"dataframe\">\n",
       "  <thead>\n",
       "    <tr style=\"text-align: right;\">\n",
       "      <th></th>\n",
       "      <th>High</th>\n",
       "      <th>Low</th>\n",
       "      <th>Open</th>\n",
       "      <th>Close</th>\n",
       "      <th>Volume</th>\n",
       "      <th>Adj Close</th>\n",
       "    </tr>\n",
       "    <tr>\n",
       "      <th>Date</th>\n",
       "      <th></th>\n",
       "      <th></th>\n",
       "      <th></th>\n",
       "      <th></th>\n",
       "      <th></th>\n",
       "      <th></th>\n",
       "    </tr>\n",
       "  </thead>\n",
       "  <tbody>\n",
       "    <tr>\n",
       "      <th>2018-01-02</th>\n",
       "      <td>43.075001</td>\n",
       "      <td>42.314999</td>\n",
       "      <td>42.540001</td>\n",
       "      <td>43.064999</td>\n",
       "      <td>102223600.0</td>\n",
       "      <td>41.248276</td>\n",
       "    </tr>\n",
       "    <tr>\n",
       "      <th>2018-01-03</th>\n",
       "      <td>43.637501</td>\n",
       "      <td>42.990002</td>\n",
       "      <td>43.132500</td>\n",
       "      <td>43.057499</td>\n",
       "      <td>118071600.0</td>\n",
       "      <td>41.241096</td>\n",
       "    </tr>\n",
       "    <tr>\n",
       "      <th>2018-01-04</th>\n",
       "      <td>43.367500</td>\n",
       "      <td>43.020000</td>\n",
       "      <td>43.134998</td>\n",
       "      <td>43.257500</td>\n",
       "      <td>89738400.0</td>\n",
       "      <td>41.432659</td>\n",
       "    </tr>\n",
       "    <tr>\n",
       "      <th>2018-01-05</th>\n",
       "      <td>43.842499</td>\n",
       "      <td>43.262501</td>\n",
       "      <td>43.360001</td>\n",
       "      <td>43.750000</td>\n",
       "      <td>94640000.0</td>\n",
       "      <td>41.904381</td>\n",
       "    </tr>\n",
       "    <tr>\n",
       "      <th>2018-01-08</th>\n",
       "      <td>43.902500</td>\n",
       "      <td>43.482498</td>\n",
       "      <td>43.587502</td>\n",
       "      <td>43.587502</td>\n",
       "      <td>82271200.0</td>\n",
       "      <td>41.748737</td>\n",
       "    </tr>\n",
       "  </tbody>\n",
       "</table>\n",
       "</div>"
      ],
      "text/plain": [
       "                 High        Low       Open      Close       Volume  Adj Close\n",
       "Date                                                                          \n",
       "2018-01-02  43.075001  42.314999  42.540001  43.064999  102223600.0  41.248276\n",
       "2018-01-03  43.637501  42.990002  43.132500  43.057499  118071600.0  41.241096\n",
       "2018-01-04  43.367500  43.020000  43.134998  43.257500   89738400.0  41.432659\n",
       "2018-01-05  43.842499  43.262501  43.360001  43.750000   94640000.0  41.904381\n",
       "2018-01-08  43.902500  43.482498  43.587502  43.587502   82271200.0  41.748737"
      ]
     },
     "execution_count": 40,
     "metadata": {},
     "output_type": "execute_result"
    }
   ],
   "source": [
    "# Check the data\n",
    "\n",
    "apple.head()"
   ]
  },
  {
   "cell_type": "code",
   "execution_count": 41,
   "metadata": {},
   "outputs": [
    {
     "data": {
      "text/plain": [
       "Date\n",
       "2018-01-02    41.248276\n",
       "2018-01-03    41.241096\n",
       "2018-01-04    41.432659\n",
       "2018-01-05    41.904381\n",
       "2018-01-08    41.748737\n",
       "Name: Adj Close, dtype: float64"
      ]
     },
     "execution_count": 41,
     "metadata": {},
     "output_type": "execute_result"
    }
   ],
   "source": [
    "# Slice the Adjusted Closing prices we need \n",
    "\n",
    "aapl_close = apple['Adj Close']\n",
    "aapl_close.head()"
   ]
  },
  {
   "cell_type": "code",
   "execution_count": 42,
   "metadata": {},
   "outputs": [
    {
     "data": {
      "text/plain": [
       "Date\n",
       "2018-01-02         NaN\n",
       "2018-01-03   -0.000174\n",
       "2018-01-04    0.004645\n",
       "2018-01-05    0.011385\n",
       "2018-01-08   -0.003714\n",
       "Name: Adj Close, dtype: float64"
      ]
     },
     "execution_count": 42,
     "metadata": {},
     "output_type": "execute_result"
    }
   ],
   "source": [
    "# Calculate daily returns \n",
    "\n",
    "daily_returns = aapl_close.pct_change()\n",
    "daily_returns.head()"
   ]
  },
  {
   "cell_type": "code",
   "execution_count": 43,
   "metadata": {},
   "outputs": [
    {
     "data": {
      "text/plain": [
       "0.02102911147824818"
      ]
     },
     "execution_count": 43,
     "metadata": {},
     "output_type": "execute_result"
    }
   ],
   "source": [
    "# Check the volatility of Apple's daily returns\n",
    "\n",
    "daily_volatility = daily_returns.std()\n",
    "daily_volatility"
   ]
  },
  {
   "cell_type": "code",
   "execution_count": 44,
   "metadata": {},
   "outputs": [
    {
     "name": "stdout",
     "output_type": "stream",
     "text": [
      "2.103%\n"
     ]
    }
   ],
   "source": [
    "# just making the float a bit human readable ;) \n",
    "\n",
    "print(str(round(daily_volatility, 5) * 100) + '%')"
   ]
  },
  {
   "cell_type": "code",
   "execution_count": 45,
   "metadata": {},
   "outputs": [
    {
     "data": {
      "image/png": "[encoded data removed]",
      "text/plain": [
       "<Figure size 576x432 with 1 Axes>"
      ]
     },
     "metadata": {
      "needs_background": "light"
     },
     "output_type": "display_data"
    }
   ],
   "source": [
    "daily_returns.hist(bins=50, alpha=0.8, color='blue', figsize=(8,6));"
   ]
  },
  {
   "cell_type": "code",
   "execution_count": 46,
   "metadata": {},
   "outputs": [
    {
     "data": {
      "text/html": [
       "<div>\n",
       "<style scoped>\n",
       "    .dataframe tbody tr th:only-of-type {\n",
       "        vertical-align: middle;\n",
       "    }\n",
       "\n",
       "    .dataframe tbody tr th {\n",
       "        vertical-align: top;\n",
       "    }\n",
       "\n",
       "    .dataframe thead th {\n",
       "        text-align: right;\n",
       "    }\n",
       "</style>\n",
       "<table border=\"1\" class=\"dataframe\">\n",
       "  <thead>\n",
       "    <tr style=\"text-align: right;\">\n",
       "      <th></th>\n",
       "      <th>USO</th>\n",
       "      <th>AAPL</th>\n",
       "      <th>CPER</th>\n",
       "    </tr>\n",
       "    <tr>\n",
       "      <th>Date</th>\n",
       "      <th></th>\n",
       "      <th></th>\n",
       "      <th></th>\n",
       "    </tr>\n",
       "  </thead>\n",
       "  <tbody>\n",
       "    <tr>\n",
       "      <th>2018-01-02</th>\n",
       "      <td>96.559998</td>\n",
       "      <td>41.248280</td>\n",
       "      <td>20.920000</td>\n",
       "    </tr>\n",
       "    <tr>\n",
       "      <th>2018-01-03</th>\n",
       "      <td>98.720001</td>\n",
       "      <td>41.241093</td>\n",
       "      <td>20.809999</td>\n",
       "    </tr>\n",
       "    <tr>\n",
       "      <th>2018-01-04</th>\n",
       "      <td>98.959999</td>\n",
       "      <td>41.432652</td>\n",
       "      <td>20.780001</td>\n",
       "    </tr>\n",
       "    <tr>\n",
       "      <th>2018-01-05</th>\n",
       "      <td>98.480003</td>\n",
       "      <td>41.904385</td>\n",
       "      <td>20.620001</td>\n",
       "    </tr>\n",
       "    <tr>\n",
       "      <th>2018-01-08</th>\n",
       "      <td>99.040001</td>\n",
       "      <td>41.748741</td>\n",
       "      <td>20.639999</td>\n",
       "    </tr>\n",
       "  </tbody>\n",
       "</table>\n",
       "</div>"
      ],
      "text/plain": [
       "                  USO       AAPL       CPER\n",
       "Date                                       \n",
       "2018-01-02  96.559998  41.248280  20.920000\n",
       "2018-01-03  98.720001  41.241093  20.809999\n",
       "2018-01-04  98.959999  41.432652  20.780001\n",
       "2018-01-05  98.480003  41.904385  20.620001\n",
       "2018-01-08  99.040001  41.748741  20.639999"
      ]
     },
     "execution_count": 46,
     "metadata": {},
     "output_type": "execute_result"
    }
   ],
   "source": [
    "# Let's have fun by comparing the volatility of three stocks. Pull Ajdusted closing prices for Apple, Fb and Tesla\n",
    "\n",
    "assets = ['USO', 'AAPL', 'CPER']\n",
    "\n",
    "df = pd.DataFrame()\n",
    "\n",
    "for stock in assets:\n",
    "    df[stock] = web.DataReader(stock, data_source='yahoo', start=start, end=end)['Adj Close']\n",
    "    \n",
    "df.head()"
   ]
  },
  {
   "cell_type": "code",
   "execution_count": 47,
   "metadata": {},
   "outputs": [
    {
     "data": {
      "text/html": [
       "<div>\n",
       "<style scoped>\n",
       "    .dataframe tbody tr th:only-of-type {\n",
       "        vertical-align: middle;\n",
       "    }\n",
       "\n",
       "    .dataframe tbody tr th {\n",
       "        vertical-align: top;\n",
       "    }\n",
       "\n",
       "    .dataframe thead th {\n",
       "        text-align: right;\n",
       "    }\n",
       "</style>\n",
       "<table border=\"1\" class=\"dataframe\">\n",
       "  <thead>\n",
       "    <tr style=\"text-align: right;\">\n",
       "      <th></th>\n",
       "      <th>USO</th>\n",
       "      <th>AAPL</th>\n",
       "      <th>CPER</th>\n",
       "    </tr>\n",
       "    <tr>\n",
       "      <th>Date</th>\n",
       "      <th></th>\n",
       "      <th></th>\n",
       "      <th></th>\n",
       "    </tr>\n",
       "  </thead>\n",
       "  <tbody>\n",
       "    <tr>\n",
       "      <th>2018-01-02</th>\n",
       "      <td>NaN</td>\n",
       "      <td>NaN</td>\n",
       "      <td>NaN</td>\n",
       "    </tr>\n",
       "    <tr>\n",
       "      <th>2018-01-03</th>\n",
       "      <td>0.022370</td>\n",
       "      <td>-0.000174</td>\n",
       "      <td>-0.005258</td>\n",
       "    </tr>\n",
       "    <tr>\n",
       "      <th>2018-01-04</th>\n",
       "      <td>0.002431</td>\n",
       "      <td>0.004645</td>\n",
       "      <td>-0.001442</td>\n",
       "    </tr>\n",
       "    <tr>\n",
       "      <th>2018-01-05</th>\n",
       "      <td>-0.004850</td>\n",
       "      <td>0.011386</td>\n",
       "      <td>-0.007700</td>\n",
       "    </tr>\n",
       "    <tr>\n",
       "      <th>2018-01-08</th>\n",
       "      <td>0.005686</td>\n",
       "      <td>-0.003714</td>\n",
       "      <td>0.000970</td>\n",
       "    </tr>\n",
       "  </tbody>\n",
       "</table>\n",
       "</div>"
      ],
      "text/plain": [
       "                 USO      AAPL      CPER\n",
       "Date                                    \n",
       "2018-01-02       NaN       NaN       NaN\n",
       "2018-01-03  0.022370 -0.000174 -0.005258\n",
       "2018-01-04  0.002431  0.004645 -0.001442\n",
       "2018-01-05 -0.004850  0.011386 -0.007700\n",
       "2018-01-08  0.005686 -0.003714  0.000970"
      ]
     },
     "execution_count": 47,
     "metadata": {},
     "output_type": "execute_result"
    }
   ],
   "source": [
    "# Check the daily returns of the three companies\n",
    "\n",
    "asset_returns_daily = df.pct_change()\n",
    "asset_returns_daily.head()"
   ]
  },
  {
   "cell_type": "code",
   "execution_count": 48,
   "metadata": {},
   "outputs": [
    {
     "data": {
      "text/plain": [
       "USO     0.028315\n",
       "AAPL    0.021029\n",
       "CPER    0.013514\n",
       "dtype: float64"
      ]
     },
     "execution_count": 48,
     "metadata": {},
     "output_type": "execute_result"
    }
   ],
   "source": [
    "# Check the volatility of the daily returns of the three companines\n",
    "\n",
    "asset_volatility_daily = asset_returns_daily.std()\n",
    "asset_volatility_daily"
   ]
  },
  {
   "cell_type": "code",
   "execution_count": 49,
   "metadata": {},
   "outputs": [
    {
     "data": {
      "image/png": "[encoded data removed]",
      "text/plain": [
       "<Figure size 720x432 with 1 Axes>"
      ]
     },
     "metadata": {
      "needs_background": "light"
     },
     "output_type": "display_data"
    }
   ],
   "source": [
    "# Visualise the daily returns of the three companies stacked against each other. Notice the most/least volatile?\n",
    "\n",
    "asset_returns_daily.plot.hist(bins=50, figsize=(10,6));"
   ]
  },
  {
   "cell_type": "code",
   "execution_count": 50,
   "metadata": {},
   "outputs": [
    {
     "data": {
      "text/plain": [
       "0.028315339113735658"
      ]
     },
     "execution_count": 50,
     "metadata": {},
     "output_type": "execute_result"
    }
   ],
   "source": [
    "# As seen in the histogram, Tesla's daily returns are the most volatile with the biggest 'spreads'\n",
    "\n",
    "asset_volatility_daily.max()"
   ]
  },
  {
   "cell_type": "code",
   "execution_count": 51,
   "metadata": {},
   "outputs": [
    {
     "data": {
      "text/plain": [
       "0.013514413574181167"
      ]
     },
     "execution_count": 51,
     "metadata": {},
     "output_type": "execute_result"
    }
   ],
   "source": [
    "# No surprise Apple's daily returns is the least volatile with such a small spread\n",
    "\n",
    "asset_volatility_daily.min()"
   ]
  },
  {
   "cell_type": "code",
   "execution_count": null,
   "metadata": {},
   "outputs": [],
   "source": []
  }
 ],
 "metadata": {
  "kernelspec": {
   "display_name": "Python 3 (ipykernel)",
   "language": "python",
   "name": "python3"
  },
  "language_info": {
   "codemirror_mode": {
    "name": "ipython",
    "version": 3
   },
   "file_extension": ".py",
   "mimetype": "text/x-python",
   "name": "python",
   "nbconvert_exporter": "python",
   "pygments_lexer": "ipython3",
   "version": "3.9.6"
  }
 },
 "nbformat": 4,
 "nbformat_minor": 4
}
