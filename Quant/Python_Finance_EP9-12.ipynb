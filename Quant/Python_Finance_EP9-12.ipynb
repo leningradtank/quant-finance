{
 "cells": [
  {
   "cell_type": "code",
   "execution_count": 8,
   "metadata": {},
   "outputs": [],
   "source": [
    "from collections import Counter\n",
    "import numpy as np\n",
    "import pandas as pd\n",
    "import pickle"
   ]
  },
  {
   "cell_type": "code",
   "execution_count": 5,
   "metadata": {},
   "outputs": [],
   "source": [
    "def process_data_for_labels(ticker):\n",
    "    hm_days = 7\n",
    "    df = pd.read_csv('sp500_joined_closes.csv', index_col = 0)\n",
    "    tickers = df.columns.values.tolist()\n",
    "    df.fillna(0, inplace=True)\n",
    "    \n",
    "    for i in range(1, hm_days+1):\n",
    "        df['{}_{}d'.format(ticker, i)] = (df[ticker].shift(-i) - df[ticker]) / df[ticker]\n",
    "        \n",
    "    df.fillna(0, inplace = True)\n",
    "    return tickers, df\n",
    "\n",
    "#process_data_for_labels('XOM')"
   ]
  },
  {
   "cell_type": "code",
   "execution_count": 11,
   "metadata": {},
   "outputs": [],
   "source": [
    "def buy_sell_hold(*args):\n",
    "    cols = [c for c in args]\n",
    "    requirement = 0.02\n",
    "    for col in cols:\n",
    "        if col > requirement: #buy \n",
    "            return 1\n",
    "        if col < -requirement: # sell\n",
    "            return -1\n",
    "    return 0"
   ]
  },
  {
   "cell_type": "code",
   "execution_count": 12,
   "metadata": {},
   "outputs": [],
   "source": [
    "def extract_featuresets(ticker):\n",
    "    tickers, df = process_data_for_labels(ticker)\n",
    "    \n",
    "    df['{}_target'.format(ticker)] = list(map(buy_sell_hold, \n",
    "                                               df['{}_1d'.format(ticker)],\n",
    "                                               df['{}_2d'.format(ticker)],\n",
    "                                               df['{}_3d'.format(ticker)],\n",
    "                                               df['{}_4d'.format(ticker)],\n",
    "                                               df['{}_5d'.format(ticker)],\n",
    "                                               df['{}_6d'.format(ticker)],\n",
    "                                               df['{}_7d'.format(ticker)] ))\n",
    "\n",
    "    vals = df['{}_target'.format(ticker)].values.tolist()\n",
    "    str_vals = [str(i) for i in vals]\n",
    "    print('Data spread: ', Counter(str_vals))\n",
    "    \n",
    "    df.fillna(0, inplace = True)\n",
    "    \n",
    "    df = df.replace([np.inf, -np.inf], np.nan)\n",
    "    df.dropna(inplace = True)\n",
    "    \n",
    "    df_vals = df[[ticker for ticker in tickers]].pct_change()  #normalizing the values\n",
    "    df_vals = df_vals.replace([np.inf, -np.inf], 0)\n",
    "    df_vals.fillna(0, inplace= True)\n",
    "    \n",
    "    X= df_vals.values\n",
    "    y = df['{}_target'.format(ticker)].values\n",
    "    \n",
    "    return X, y, df"
   ]
  },
  {
   "cell_type": "code",
   "execution_count": 13,
   "metadata": {},
   "outputs": [
    {
     "name": "stdout",
     "output_type": "stream",
     "text": [
      "Data spread:  Counter({'1': 1435, '-1': 1265, '0': 1143})\n"
     ]
    },
    {
     "data": {
      "text/plain": [
       "(array([[ 0.        ,  0.        ,  0.        , ...,  0.        ,\n",
       "          0.        ,  0.        ],\n",
       "        [-0.00813105, -0.01007022,  0.        , ..., -0.00037824,\n",
       "         -0.01365146,  0.        ],\n",
       "        [-0.01223558, -0.011472  ,  0.        , ..., -0.00781297,\n",
       "         -0.00361068,  0.        ],\n",
       "        ...,\n",
       "        [ 0.05164814,  0.04128391,  0.03216574, ...,  0.06444952,\n",
       "          0.09116694,  0.10627345],\n",
       "        [ 0.02771862, -0.00967005, -0.00448969, ...,  0.04053503,\n",
       "          0.04121799, -0.0053632 ],\n",
       "        [ 0.03035961,  0.03686069,  0.04204799, ...,  0.09194382,\n",
       "          0.04992866,  0.00903972]]),\n",
       " array([0, 0, 1, ..., 1, 1, 0]),\n",
       "                    MMM        ABT       ABBV        ABMD         ACN  \\\n",
       " Date                                                                   \n",
       " 2005-01-03   55.372093  11.840737   0.000000   15.010000   19.824249   \n",
       " 2005-01-04   54.921860  11.721498   0.000000   14.980000   19.358147   \n",
       " 2005-01-05   54.249859  11.587029   0.000000   14.690000   19.282974   \n",
       " 2005-01-06   54.740402  11.848348   0.000000   14.520000   19.110065   \n",
       " 2005-01-07   55.304882  12.051314   0.000000   14.290000   20.004671   \n",
       " ...                ...        ...        ...         ...         ...   \n",
       " 2020-04-02  137.910004  79.440002  75.129997  143.279999  156.270004   \n",
       " 2020-04-03  133.789993  79.449997  73.370003  141.399994  152.149994   \n",
       " 2020-04-06  140.699997  82.730003  75.730003  150.259995  166.050003   \n",
       " 2020-04-07  144.600006  81.930000  75.389999  152.779999  164.119995   \n",
       " 2020-04-08  148.990005  84.949997  78.559998  156.270004  171.729996   \n",
       " \n",
       "                  ATVI        ADBE        AMD         AAP        AES  ...  \\\n",
       " Date                                                                 ...   \n",
       " 2005-01-03   4.980191   30.838949  21.410000   27.539322  10.683968  ...   \n",
       " 2005-01-04   4.850803   30.024111  20.209999   27.355932  10.289727  ...   \n",
       " 2005-01-05   4.921839   29.859142  19.750000   27.406525  10.266071  ...   \n",
       " 2005-01-06   4.853340   29.364239  19.719999   27.381229  10.273957  ...   \n",
       " 2005-01-07   4.690970   29.384233  19.920000   27.223145  10.124143  ...   \n",
       " ...               ...         ...        ...         ...        ...  ...   \n",
       " 2020-04-02  60.779999  303.959991  44.490002   88.410004  13.040000  ...   \n",
       " 2020-04-03  59.980000  293.609985  42.590000   84.650002  12.240000  ...   \n",
       " 2020-04-06  61.599998  319.130005  47.520000   95.809998  13.620000  ...   \n",
       " 2020-04-07  59.869999  308.929993  47.560001   99.440002  13.230000  ...   \n",
       " 2020-04-08  61.070000  317.179993  48.790001  102.519997  14.130000  ...   \n",
       " \n",
       "                  ZION         ZTS    XOM_1d    XOM_2d    XOM_3d    XOM_4d  \\\n",
       " Date                                                                        \n",
       " 2005-01-03  54.849216    0.000000 -0.006787 -0.011979  0.000599 -0.005989   \n",
       " 2005-01-04  54.100445    0.000000 -0.005227  0.007437  0.000804  0.004623   \n",
       " 2005-01-05  53.905106    0.000000  0.012730  0.006062  0.009901  0.007274   \n",
       " 2005-01-06  54.214390    0.000000 -0.006584 -0.002793 -0.005387  0.009378   \n",
       " 2005-01-07  52.895836    0.000000  0.003816  0.001205  0.016067  0.015264   \n",
       " ...               ...         ...       ...       ...       ...       ...   \n",
       " 2020-04-02  25.389999  116.029999 -0.029456  0.001733  0.020792  0.085396   \n",
       " 2020-04-03  24.680000  114.610001  0.032135  0.051773  0.118337  0.000000   \n",
       " 2020-04-06  26.930000  126.790001  0.019026  0.083519  0.000000  0.000000   \n",
       " 2020-04-07  28.040001  126.110001  0.063288  0.000000  0.000000  0.000000   \n",
       " 2020-04-08  29.440001  127.250000  0.000000  0.000000  0.000000  0.000000   \n",
       " \n",
       "               XOM_5d    XOM_6d    XOM_7d  XOM_target  \n",
       " Date                                                  \n",
       " 2005-01-03 -0.002196 -0.004791  0.009982           0  \n",
       " 2005-01-04  0.002010  0.016884  0.016080           0  \n",
       " 2005-01-05  0.022227  0.021419  0.031926           1  \n",
       " 2005-01-06  0.008580  0.018955  0.027534           1  \n",
       " 2005-01-07  0.025708  0.034344  0.025306           1  \n",
       " ...              ...       ...       ...         ...  \n",
       " 2020-04-02  0.000000  0.000000  0.000000          -1  \n",
       " 2020-04-03  0.000000  0.000000  0.000000           1  \n",
       " 2020-04-06  0.000000  0.000000  0.000000           1  \n",
       " 2020-04-07  0.000000  0.000000  0.000000           1  \n",
       " 2020-04-08  0.000000  0.000000  0.000000           0  \n",
       " \n",
       " [3843 rows x 513 columns])"
      ]
     },
     "execution_count": 13,
     "metadata": {},
     "output_type": "execute_result"
    }
   ],
   "source": [
    "extract_featuresets('XOM')"
   ]
  },
  {
   "cell_type": "code",
   "execution_count": null,
   "metadata": {},
   "outputs": [],
   "source": []
  }
 ],
 "metadata": {
  "kernelspec": {
   "display_name": "Python 3",
   "language": "python",
   "name": "python3"
  },
  "language_info": {
   "codemirror_mode": {
    "name": "ipython",
    "version": 3
   },
   "file_extension": ".py",
   "mimetype": "text/x-python",
   "name": "python",
   "nbconvert_exporter": "python",
   "pygments_lexer": "ipython3",
   "version": "3.7.7"
  }
 },
 "nbformat": 4,
 "nbformat_minor": 4
}
